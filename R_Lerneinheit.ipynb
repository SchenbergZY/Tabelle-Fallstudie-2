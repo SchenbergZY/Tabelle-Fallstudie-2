{
 "cells": [
  {
   "cell_type": "markdown",
   "id": "6d1db875-21bb-4e1c-be8e-0cc4f1ed24a6",
   "metadata": {},
   "source": [
    "Lerneinheit R - Arbeiten mit CSV-Dateien\n",
    "\n",
    "## 1 Vorwort \n",
    "\n",
    "Die folgende Lerneinheit soll Ihnen den Ersteinstieg in die Computersprache **R** erleichtern.\\\n",
    "Als Fallbeispiel wird eine CSV-Datei mit Rohdaten zum *Personalstand an Hochschulen* eingelesen und ausgewertet.\\\n",
    "Um die CSV-Datei herunterzuladen, klicken Sie bitte [hier](https://www-genesis.destatis.de/genesis//online?operation=table&code=21341-0001&bypass=true&levelindex=0&levelid=1706718181851) (Quelle: Statistisches Bundesamt 2022).\n",
    "\n",
    "### Installieren von R und R-Studio \n",
    "\n",
    "Um der Übungseinheit effektiv folgen zu können, installieren Sie bitte vorab die Computersprache **R**. Zudem benötigen Sie eine geeignete Entwicklungsumgebung. Hierfür bietet sich **R-Studio** an.\\\n",
    "Zur Installation der Computersprache **R** und **R-Studio** geht es [hier](https://posit.co/download/rstudio-desktop/)."
   ]
  },
  {
   "cell_type": "markdown",
   "id": "d9a7eba1-d60a-4e37-86e1-d035402cf2c7",
   "metadata": {},
   "source": [
    "***\n",
    "## 2 Erste Schritte in R-Studio \n",
    "\n",
    "**Neues R Skript anlegen**\n",
    "1. Öffnen Sie R-Studio.\n",
    "2. Ein neues Skript, in dem Sie Befehle eingeben können, öffnen Sie unter *Files*:\n",
    "\n",
    "->Bild einfügen\n",
    "\n",
    "\n",
    "**Interface von R-Studio:**\n",
    "\n",
    "->Bild einfügen\n",
    "\n",
    "**R Skript:** \\\n",
    "Im R Skript werden die Befehle eingegeben, welche **R** ausführen soll. Um einen eingegebenen Befehl auszuführen, drücken Sie entweder `Strg + Enter` oder Sie drücken mit der Maus auf den *Run-Button* in der oberen rechten Ecke des Fensters. Ein Befehl ist z.B. `1+1`. Das Skript und dessen Befehle können abgespeichert werden und zu einem späteren Zeitpunkt erneut geöffnet werden.\n",
    "\n",
    "**Console:** \\\n",
    "In der Console werden die Ergebnisse der Befehle angezeigt. Wenn Sie im Skript `1+1` eingegeben und ausgeführt haben, erscheint in der Console das Ergebnis `2`. Sie können auch Befehle direkt in der Console ausführen, diese werden dann jedoch nicht gespeichert.\n",
    "\n",
    "**Environment:**\n",
    "In der Environment werden geladene Dateien und Datensätze angezeigt. Zudem sind hier selbst erstellte Listen etc. vorzufinden.\n",
    "\n",
    "**Files, Plots, Packages, etc.:**\n",
    "In diesem Fenster werden verschiedene Funktionen angeboten. Über die Fensterkachel **Files** können Sie Dateien anzeigen lassen und Importieren *(Dazu mehr im Abschnitt **Einlesen von CSV Dateien**)*.\n",
    "Die Fensterkachel **PLOTS** zeigt Ihnen erstellte Grafiken an.\n",
    "Die Fensterkachel **Packages** zeigt Ihnen alle installierten R-Packages auf Ihrem Rechner an. Ein Package ist eine Ansammlung von **R**-Befehlen. Manche Befehle können Sie nur ausführen, wenn Sie das dazugehörige Package durch den Befehl `install.packages(\"*Packagename*\")` installiert und durch den Befehlt `library(*Packagename*)`geladen haben *(Dazu mehr im folgenden Abschnitt **Einleitung**)*."
   ]
  },
  {
   "cell_type": "markdown",
   "id": "5c0edd2b",
   "metadata": {},
   "source": [
    "***\n",
    "## 3 Einleitung \n",
    "\n",
    "> Für Computersprachen gilt allgemein: Es gibt nie nur einen Weg zum Ziel. Unterschiedliche Befehle können Sie zum gleichen Ziel bringen. Dieses gilt auch für die folgenden angeführten Befehle!\n",
    "\n",
    "Damit Sie die in diesem Skript angeführten Befehle verwenden können, müssen Sie das folgende Package installieren und laden:"
   ]
  },
  {
   "cell_type": "code",
   "execution_count": 11,
   "id": "309596ad",
   "metadata": {
    "eval": false
   },
   "outputs": [
    {
     "name": "stderr",
     "output_type": "stream",
     "text": [
      "Warning message:\n",
      "\"dependencies 'MASS', 'Matrix', 'evaluate', 'lattice' are not available\"also installing the dependencies 'fastmap', 'colorspace', 'sys', 'bit', 'ps', 'sass', 'cachem', 'nlme', 'farver', 'munsell', 'rappdirs', 'askpass', 'bit64', 'processx', 'highr', 'xfun', 'yaml', 'bslib', 'fontawesome', 'htmltools', 'tinytex', 'backports', 'glue', 'lifecycle', 'memoise', 'blob', 'tidyselect', 'vctrs', 'data.table', 'gtable', 'isoband', 'mgcv', 'scales', 'gargle', 'cellranger', 'curl', 'ids', 'rematch2', 'mime', 'openssl', 'timechange', 'fansi', 'utf8', 'systemfonts', 'textshaping', 'vroom', 'tzdb', 'progress', 'callr', 'fs', 'knitr', 'rmarkdown', 'selectr', 'stringi', 'broom', 'conflicted', 'cli', 'dbplyr', 'dplyr', 'dtplyr', 'forcats', 'ggplot2', 'googledrive', 'googlesheets4', 'haven', 'hms', 'httr', 'jsonlite', 'lubridate', 'magrittr', 'modelr', 'pillar', 'purrr', 'ragg', 'readr', 'readxl', 'reprex', 'rlang', 'rvest', 'stringr', 'tibble', 'tidyr', 'xml2'\n",
      "\n",
      "Warning message:\n",
      "\"unable to access index for repository http://cran.us.r-project.org/bin/windows/contrib/3.6:\n",
      "  无法打开URL'http://cran.us.r-project.org/bin/windows/contrib/3.6/PACKAGES'\"Packages which are only available in source form, and may need\n",
      "  compilation of C/C++/Fortran: 'fastmap' 'colorspace' 'sys' 'bit' 'ps'\n",
      "  'sass' 'cachem' 'nlme' 'farver' 'rappdirs' 'askpass' 'bit64'\n",
      "  'processx' 'xfun' 'yaml' 'htmltools' 'backports' 'glue' 'tidyselect'\n",
      "  'vctrs' 'data.table' 'isoband' 'mgcv' 'scales' 'curl' 'mime'\n",
      "  'openssl' 'timechange' 'fansi' 'utf8' 'systemfonts' 'textshaping'\n",
      "  'vroom' 'tzdb' 'fs' 'stringi' 'cli' 'dplyr' 'haven' 'jsonlite'\n",
      "  'lubridate' 'magrittr' 'purrr' 'ragg' 'readr' 'readxl' 'rlang'\n",
      "  'tibble' 'tidyr' 'xml2'\n"
     ]
    },
    {
     "name": "stdout",
     "output_type": "stream",
     "text": [
      "  These will not be installed\n"
     ]
    },
    {
     "name": "stderr",
     "output_type": "stream",
     "text": [
      "installing the source packages 'munsell', 'highr', 'bslib', 'fontawesome', 'tinytex', 'lifecycle', 'memoise', 'blob', 'gtable', 'gargle', 'cellranger', 'ids', 'rematch2', 'progress', 'callr', 'knitr', 'rmarkdown', 'selectr', 'broom', 'conflicted', 'dbplyr', 'dtplyr', 'forcats', 'ggplot2', 'googledrive', 'googlesheets4', 'hms', 'httr', 'modelr', 'pillar', 'reprex', 'rvest', 'stringr', 'tidyverse'\n",
      "\n",
      "Warning message in install.packages(\"tidyverse\", repos = \"http://cran.us.r-project.org\"):\n",
      "\"installation of package 'munsell' had non-zero exit status\"Warning message in install.packages(\"tidyverse\", repos = \"http://cran.us.r-project.org\"):\n",
      "\"installation of package 'highr' had non-zero exit status\"Warning message in install.packages(\"tidyverse\", repos = \"http://cran.us.r-project.org\"):\n",
      "\"installation of package 'fontawesome' had non-zero exit status\"Warning message in install.packages(\"tidyverse\", repos = \"http://cran.us.r-project.org\"):\n",
      "\"installation of package 'tinytex' had non-zero exit status\"Warning message in install.packages(\"tidyverse\", repos = \"http://cran.us.r-project.org\"):\n",
      "\"installation of package 'lifecycle' had non-zero exit status\"Warning message in install.packages(\"tidyverse\", repos = \"http://cran.us.r-project.org\"):\n",
      "\"installation of package 'memoise' had non-zero exit status\"Warning message in install.packages(\"tidyverse\", repos = \"http://cran.us.r-project.org\"):\n",
      "\"installation of package 'blob' had non-zero exit status\"Warning message in install.packages(\"tidyverse\", repos = \"http://cran.us.r-project.org\"):\n",
      "\"installation of package 'cellranger' had non-zero exit status\"Warning message in install.packages(\"tidyverse\", repos = \"http://cran.us.r-project.org\"):\n",
      "\"installation of package 'ids' had non-zero exit status\"Warning message in install.packages(\"tidyverse\", repos = \"http://cran.us.r-project.org\"):\n",
      "\"installation of package 'rematch2' had non-zero exit status\"Warning message in install.packages(\"tidyverse\", repos = \"http://cran.us.r-project.org\"):\n",
      "\"installation of package 'callr' had non-zero exit status\"Warning message in install.packages(\"tidyverse\", repos = \"http://cran.us.r-project.org\"):\n",
      "\"installation of package 'httr' had non-zero exit status\"Warning message in install.packages(\"tidyverse\", repos = \"http://cran.us.r-project.org\"):\n",
      "\"installation of package 'bslib' had non-zero exit status\"Warning message in install.packages(\"tidyverse\", repos = \"http://cran.us.r-project.org\"):\n",
      "\"installation of package 'gtable' had non-zero exit status\"Warning message in install.packages(\"tidyverse\", repos = \"http://cran.us.r-project.org\"):\n",
      "\"installation of package 'gargle' had non-zero exit status\"Warning message in install.packages(\"tidyverse\", repos = \"http://cran.us.r-project.org\"):\n",
      "\"installation of package 'knitr' had non-zero exit status\"Warning message in install.packages(\"tidyverse\", repos = \"http://cran.us.r-project.org\"):\n",
      "\"installation of package 'conflicted' had non-zero exit status\"Warning message in install.packages(\"tidyverse\", repos = \"http://cran.us.r-project.org\"):\n",
      "\"installation of package 'dtplyr' had non-zero exit status\"Warning message in install.packages(\"tidyverse\", repos = \"http://cran.us.r-project.org\"):\n",
      "\"installation of package 'forcats' had non-zero exit status\"Warning message in install.packages(\"tidyverse\", repos = \"http://cran.us.r-project.org\"):\n",
      "\"installation of package 'hms' had non-zero exit status\"Warning message in install.packages(\"tidyverse\", repos = \"http://cran.us.r-project.org\"):\n",
      "\"installation of package 'pillar' had non-zero exit status\"Warning message in install.packages(\"tidyverse\", repos = \"http://cran.us.r-project.org\"):\n",
      "\"installation of package 'stringr' had non-zero exit status\"Warning message in install.packages(\"tidyverse\", repos = \"http://cran.us.r-project.org\"):\n",
      "\"installation of package 'progress' had non-zero exit status\"Warning message in install.packages(\"tidyverse\", repos = \"http://cran.us.r-project.org\"):\n",
      "\"installation of package 'rmarkdown' had non-zero exit status\"Warning message in install.packages(\"tidyverse\", repos = \"http://cran.us.r-project.org\"):\n",
      "\"installation of package 'selectr' had non-zero exit status\"Warning message in install.packages(\"tidyverse\", repos = \"http://cran.us.r-project.org\"):\n",
      "\"installation of package 'broom' had non-zero exit status\"Warning message in install.packages(\"tidyverse\", repos = \"http://cran.us.r-project.org\"):\n",
      "\"installation of package 'dbplyr' had non-zero exit status\"Warning message in install.packages(\"tidyverse\", repos = \"http://cran.us.r-project.org\"):\n",
      "\"installation of package 'ggplot2' had non-zero exit status\"Warning message in install.packages(\"tidyverse\", repos = \"http://cran.us.r-project.org\"):\n",
      "\"installation of package 'googledrive' had non-zero exit status\"Warning message in install.packages(\"tidyverse\", repos = \"http://cran.us.r-project.org\"):\n",
      "\"installation of package 'googlesheets4' had non-zero exit status\"Warning message in install.packages(\"tidyverse\", repos = \"http://cran.us.r-project.org\"):\n",
      "\"installation of package 'modelr' had non-zero exit status\"Warning message in install.packages(\"tidyverse\", repos = \"http://cran.us.r-project.org\"):\n",
      "\"installation of package 'reprex' had non-zero exit status\"Warning message in install.packages(\"tidyverse\", repos = \"http://cran.us.r-project.org\"):\n",
      "\"installation of package 'rvest' had non-zero exit status\"Warning message in install.packages(\"tidyverse\", repos = \"http://cran.us.r-project.org\"):\n",
      "\"installation of package 'tidyverse' had non-zero exit status\""
     ]
    }
   ],
   "source": [
    "install.packages(\"tidyverse\")\n",
    "#install.packages(\"tidyverse\", repos='http://cran.us.r-project.org')"
   ]
  },
  {
   "cell_type": "code",
   "execution_count": 1,
   "id": "bfcb58b8",
   "metadata": {
    "lines_to_next_cell": 2,
    "message": false
   },
   "outputs": [
    {
     "name": "stderr",
     "output_type": "stream",
     "text": [
      "Registered S3 methods overwritten by 'ggplot2':\n",
      "  method         from \n",
      "  [.quosures     rlang\n",
      "  c.quosures     rlang\n",
      "  print.quosures rlang\n",
      "Registered S3 method overwritten by 'rvest':\n",
      "  method            from\n",
      "  read_xml.response xml2\n",
      "-- Attaching packages --------------------------------------- tidyverse 1.2.1 --\n",
      "√ ggplot2 3.1.1       √ purrr   0.3.2  \n",
      "√ tibble  2.1.1       √ dplyr   0.8.0.1\n",
      "√ tidyr   0.8.3       √ stringr 1.4.0  \n",
      "√ readr   1.3.1       √ forcats 0.4.0  \n",
      "-- Conflicts ------------------------------------------ tidyverse_conflicts() --\n",
      "x dplyr::filter() masks stats::filter()\n",
      "x dplyr::lag()    masks stats::lag()\n"
     ]
    }
   ],
   "source": [
    "library(tidyverse)"
   ]
  },
  {
   "cell_type": "code",
   "execution_count": 4,
   "id": "8a205d42",
   "metadata": {},
   "outputs": [
    {
     "ename": "ERROR",
     "evalue": "Error: 'pak' is not an exported object from 'namespace:pak'\n",
     "output_type": "error",
     "traceback": [
      "Error: 'pak' is not an exported object from 'namespace:pak'\nTraceback:\n",
      "1. pak::pak",
      "2. getExportedValue(pkg, name)",
      "3. stop(gettextf(\"'%s' is not an exported object from 'namespace:%s'\", \n .     name, getNamespaceName(ns)), call. = FALSE, domain = NA)"
     ]
    }
   ],
   "source": [
    "#pak::pak(\"cderv/pandoc\")"
   ]
  },
  {
   "cell_type": "markdown",
   "id": "662a6b4f-1f5c-4675-859c-3fc147c36de5",
   "metadata": {
    "lines_to_next_cell": 0
   },
   "source": [
    "### Einlesen von CSV Dateien \n",
    "\n",
    "Hierfür gibt es zwei Befehle: `read.csv()` oder `read.csv2()`\n",
    "\n",
    "-   `read.csv()` wird verwendet, wenn die CSV Dateiwerte durch Kommata separiert werden.\n",
    "    \n",
    "-   `read.csv2()` wird verwendet, wenn die CSV Dateiwerte durch Semicola separiert werden."
   ]
  },
  {
   "cell_type": "markdown",
   "id": "f50f3ac6-a539-4e63-84bc-d78f85b55328",
   "metadata": {
    "lines_to_next_cell": 0
   },
   "source": [
    "**Fallbeispiel:**"
   ]
  },
  {
   "cell_type": "code",
   "execution_count": 2,
   "id": "127d1921",
   "metadata": {
    "lines_to_next_cell": 0
   },
   "outputs": [],
   "source": [
    "#Daten einlesen\n",
    "data_csv <- read.csv2(\"21341-0001_$F.csv\",header = FALSE)"
   ]
  },
  {
   "cell_type": "code",
   "execution_count": 3,
   "id": "53d1d610",
   "metadata": {},
   "outputs": [
    {
     "data": {
      "text/html": [
       "<table>\n",
       "<thead><tr><th scope=col>V1</th><th scope=col>V2</th><th scope=col>V3</th></tr></thead>\n",
       "<tbody>\n",
       "\t<tr><td>GENESIS-Tabelle: 21341-0001                              </td><td>                                                         </td><td>                                                         </td></tr>\n",
       "\t<tr><td>Personal an Hochschulen: Deutschland, Jahre,             </td><td>                                                         </td><td>                                                         </td></tr>\n",
       "\t<tr><td>Personalgruppen nach Besch鋐tigungsverh鋖tnis, Geschlecht</td><td>                                                         </td><td>                                                         </td></tr>\n",
       "\t<tr><td>Statistik des Hochschulpersonals                         </td><td>                                                         </td><td>                                                         </td></tr>\n",
       "\t<tr><td>Deutschland                                              </td><td>                                                         </td><td>                                                         </td></tr>\n",
       "\t<tr><td>Personal an Hochschulen (Anzahl)                         </td><td>                                                         </td><td>                                                         </td></tr>\n",
       "</tbody>\n",
       "</table>\n"
      ],
      "text/latex": [
       "\\begin{tabular}{r|lll}\n",
       " V1 & V2 & V3\\\\\n",
       "\\hline\n",
       "\t GENESIS-Tabelle: 21341-0001                               &                                                           &                                                          \\\\\n",
       "\t Personal an Hochschulen: Deutschland, Jahre,              &                                                           &                                                          \\\\\n",
       "\t Personalgruppen nach Besch鋐tigungsverh鋖tnis, Geschlecht &                                                           &                                                          \\\\\n",
       "\t Statistik des Hochschulpersonals                          &                                                           &                                                          \\\\\n",
       "\t Deutschland                                               &                                                           &                                                          \\\\\n",
       "\t Personal an Hochschulen (Anzahl)                          &                                                           &                                                          \\\\\n",
       "\\end{tabular}\n"
      ],
      "text/markdown": [
       "\n",
       "| V1 | V2 | V3 |\n",
       "|---|---|---|\n",
       "| GENESIS-Tabelle: 21341-0001                               |                                                           |                                                           |\n",
       "| Personal an Hochschulen: Deutschland, Jahre,              |                                                           |                                                           |\n",
       "| Personalgruppen nach Besch鋐tigungsverh鋖tnis, Geschlecht |                                                           |                                                           |\n",
       "| Statistik des Hochschulpersonals                          |                                                           |                                                           |\n",
       "| Deutschland                                               |                                                           |                                                           |\n",
       "| Personal an Hochschulen (Anzahl)                          |                                                           |                                                           |\n",
       "\n"
      ],
      "text/plain": [
       "  V1                                                        V2 V3\n",
       "1 GENESIS-Tabelle: 21341-0001                                    \n",
       "2 Personal an Hochschulen: Deutschland, Jahre,                   \n",
       "3 Personalgruppen nach Besch鋐tigungsverh鋖tnis, Geschlecht      \n",
       "4 Statistik des Hochschulpersonals                               \n",
       "5 Deutschland                                                    \n",
       "6 Personal an Hochschulen (Anzahl)                               "
      ]
     },
     "metadata": {},
     "output_type": "display_data"
    }
   ],
   "source": [
    "head(data_csv)"
   ]
  },
  {
   "cell_type": "markdown",
   "id": "53cf0de6",
   "metadata": {},
   "source": [
    "**Erklärung des Codes:**\n",
    "\n",
    "-   `#Daten einlesen`:\\\n",
    "    Durch das setzen eines `#` wird der folgende Inhalt in der Zeile nicht als Code interpretiert und somit auch nicht ausgeführt. Wenn Sie Textbausteine, Kommentare, Überschriften etc. in Ihrem **R-Skript** integrieren möchten, was für eine bessere Nachvollziehbarkeit Ihres Skriptes zu empfehlen ist, benutzen Sie immer das `#` -Symbol, um dies kenntlich zu machen. Ansonsten wird **R** einen Error ausgeben.\n",
    "\n",
    "-   `read.csv2()`:\\\n",
    "    Die verwendete Datei ist durch Semicola separiert. Deswegen wird hier `read.csv2()` verwendet.\\\n",
    "    \\- *Woraus ist dies ersichtlich? Durch Öffnen der Datei in der Console Ihres Rechners können Sie die verwendeten Trennzeichen erkennen.*\n",
    "        \n",
    "-   `\"21341-0001_$F.csv\"`:\\\n",
    "    Hier steht der Name der CSV-Datei, die geladen werden soll.\\\n",
    "    \\- *Bei Verwendung von R-Studio: Sie sollten unter *Files* den Ordner aufrufen, in dem Ihre Dateien gespeichert sind. Nach klicken auf die gewünschte Datei, können Sie die Option **Import Dataset...** nutzen.*\n",
    "\n",
    "-   `header = FALSE`:\\\n",
    "    Die CSV Datei hat keine Überschriften, daher muss hier der Zusatz hinzugefügt werden.\n",
    "    \n",
    "-   `data_csv <-`:\\\n",
    "    Damit Sie einen Befehl nicht immer wieder ausführen müssen, können Sie dem Befehl mittels eines Pfeils `<-` einem Namen zuordnen.\\\n",
    "    \\- *Hier: \"data_csv\". Nun können Sie in dem folgenden Skript nur noch den gesetzten Namen verwenden.*\n",
    "        \n",
    "\n",
    "***Alternative:*** *Falls die Datei nicht unter \"Files\" auffindbar ist, kann auch der Befehl `choose.files()` genutzt werden:*"
   ]
  },
  {
   "cell_type": "code",
   "execution_count": 4,
   "id": "6f6ff3f6",
   "metadata": {
    "eval": false
   },
   "outputs": [],
   "source": [
    "# data_csv <- read.csv2(choose.files(), header = FALSE) # not work in Binder"
   ]
  },
  {
   "cell_type": "markdown",
   "id": "0ccec150",
   "metadata": {
    "lines_to_next_cell": 0
   },
   "source": [
    "\n",
    "\n",
    "> **Tipp:** Wenn Sie die Bedeutung und Syntax eines Befehls besser verstehen wollen, empfielt es sich, diesen Befehl im Handbuch nachzuschlagen. Hierzu setzen Sie ein `?` vor den Befehl Ihres Interesses.\n",
    "\n",
    "*Beispiel:*"
   ]
  },
  {
   "cell_type": "code",
   "execution_count": 5,
   "id": "2ffa9012",
   "metadata": {
    "message": false
   },
   "outputs": [],
   "source": [
    "?read.csv2"
   ]
  },
  {
   "cell_type": "markdown",
   "id": "28925420",
   "metadata": {},
   "source": [
    "***\n",
    "\n",
    "## 4 Daten sichten \n",
    "\n",
    "Es ist immer ratsam, einen ersten Blick auf die Daten zu werfen, um deren Struktur zu verstehen."
   ]
  },
  {
   "cell_type": "code",
   "execution_count": 6,
   "id": "c12d0aba",
   "metadata": {
    "class.output": "scroll_limit"
   },
   "outputs": [
    {
     "ename": "ERROR",
     "evalue": "Error in show(data_csv_3): 找不到对象'data_csv_3'\n",
     "output_type": "error",
     "traceback": [
      "Error in show(data_csv_3): 找不到对象'data_csv_3'\nTraceback:\n",
      "1. show(data_csv_3)"
     ]
    }
   ],
   "source": [
    "show(data_csv_3)"
   ]
  },
  {
   "cell_type": "markdown",
   "id": "d9ed9b97",
   "metadata": {},
   "source": [
    "*Alternative:*"
   ]
  },
  {
   "cell_type": "code",
   "execution_count": null,
   "id": "e4e2e9c8",
   "metadata": {
    "eval": false
   },
   "outputs": [],
   "source": [
    "view(data_csv)\n",
    "#oder\n",
    "print(data_csv)"
   ]
  },
  {
   "cell_type": "markdown",
   "id": "a3033572-d260-47b1-a980-f854e06d6df2",
   "metadata": {},
   "source": [
    "### Dateiinhalt interpretieren \n",
    "\n",
    "Die Datei hat drei Spalten (V1, V2, V3):\n",
    "\n",
    "-   **V1:** In den Zeilen 1-6 und 87-88 stehen die Metadaten der Datei. Hier finden Sie Infos zum Herausgeber, Inhalt der Daten, etc..\\\n",
    "    In den Zeilen 8-85 befinden sich Bezeichnung zum Angestelltenverhältnis des Hochschulpersonals (Dozent, Gastprofessoren, etc.).\n",
    "\n",
    "-   **V2:** Diese Spalte unterteilt die Beschäftigten nach Geschlecht (männlich, weiblich & Insgesamt).\n",
    "\n",
    "-   **V3:** In den Zeilen 8-85 sind die jeweiligen absoluten Personalzahlen enthalten. In der Zeile 7 ist die Spaltenüberschrift \"2020\" gegeben. Diese bezieht sich auf das Erhebungsjahr der Daten.\n",
    "    "
   ]
  },
  {
   "cell_type": "markdown",
   "id": "7991b680-c73e-4ef3-bdbf-d72ff62ae95b",
   "metadata": {},
   "source": [
    "### Anmerkungen zu der Ausgangsdatei \n",
    "\n",
    "Es fallen hier direkt mehrere Punkte auf, welche die CSV-Datei schlechter maschinenlesbar machen:\n",
    "\n",
    "1.  Der Titel des Datensatzes ist nicht prägnant und verständlich.\n",
    "\n",
    "2.  Metadaten (Übergeordnete Informationen über die vorliegenden Daten) sollten nicht in der Tabelle selbst auftauchen sondern separiert in dem dafür vorgesehenen Metadatenbereich abgespeichert werden. Die CSV-Datei sollte neben der Kopfzeile und der Inhaltsdaten keine weiteren Informationen enthalten.\n",
    "\n",
    "3.  Spalten sollten immer Überschriften haben. Dies fehlt hier für **V1** und **V2**.\n",
    "\n",
    "4.  Auf Umlaute und Sonderzeichen ist zu verzichten. Dies führt zu einer fehlerhaften Anzeige. In **V1 Zeile 87** wird das Sonderzeichen \"Copyright\" nicht logisch erkannt und als \"\\xa9.\" angezeigt. In den Spalten **V1** und **V2** werden Wörter mit Umlauten wie *\"männlich\", \"\"für\", \"Lehrkräfte\", etc.* alle fehlerhaft angezeigt. Um größtmögliche Kompatibilität zu anderen Programmen zu gewährleisten, sollten Dateien immer der UTF-8-Zeichenkodierung folgen.\n",
    "Andernfalls können Probleme bei der maschinellen Verarbeitung entstehen, wie Sie in der Tabelle erkennen können.\n",
    "\n",
    "Wenn Sie mehr zum Thema *\"hochwertiger Datenaufbau\"* wissen möchten, werfen Sie gerne einen Blick in den [NQDM-Leitfaden](https://nqdm-projekt.de/de/downloads/leitfaden)."
   ]
  },
  {
   "cell_type": "markdown",
   "id": "47680557",
   "metadata": {
    "lines_to_next_cell": 0
   },
   "source": [
    "------------------------------------------------------------------------\n",
    "\n",
    "## 5 Daten aufbereiten\\\n",
    "Im folgenden Abschnitt werden die zuletzt erwähnten Qualitätsmängel der Datendarstellung behoben und die Daten zur Auswertung vorbereitet.\n",
    "\n",
    "**Problem der Zeichenkodierung**\\\n",
    "Im Default interpretiert **R** Dokumente als UTF-8 (Unicode) kodiert. Dies ist die Ausgangseinstellung und **R-Skripte** werden mit dieser Zeichenkodierung ebenfalls abgespeichert, solange Sie dies nicht manuell ändern. Beim Laden von nicht UTF-8 kodierten Dateien kann es jedoch zu Anzeigeproblemen kommen, wie in der Tabelle feststellbar. Siehe beispielsweise Zelle V2 Zeile 8:\\"
   ]
  },
  {
   "cell_type": "code",
   "execution_count": null,
   "id": "adffabb2",
   "metadata": {
    "tags": [
     "remove_input"
    ]
   },
   "outputs": [],
   "source": [
    "data_csv[8,2]"
   ]
  },
  {
   "cell_type": "markdown",
   "id": "39425fc0",
   "metadata": {
    "lines_to_next_cell": 0
   },
   "source": [
    "Solch eine Anzeige spricht dafür, dass ein ISO 8859-1 (\"Latin-1\") kodiertes Dokument inklusive Umlauten als UTF-8 interpretiert wird. Damit Ihre Datei kompatibel und gut maschinell lesbar für andere Programme bleibt, sollten Sie stets eine UFT-8 Kodierung beibehalten. Eine bessere Anzeige können Sie trotzdem mit folgenden Schritten erreichen.\\\n",
    "\\\n",
    "\\\n",
    "**Lösungsansätze**\\\n",
    "Sie können die Datei als ISO 8859-1 (\"Latin-1\") kodiert laden. Hierzu müssen Sie zum bekannten Einlesebefehl nur den Zusatz `encoding = \"latin1\"` hinzufügen, damit **R** weiß, welche Zeichenkodierung im Dokument verwendet wurde:"
   ]
  },
  {
   "cell_type": "code",
   "execution_count": null,
   "id": "d36033ec",
   "metadata": {},
   "outputs": [],
   "source": [
    "data_csv_clean <- read.csv2(\"21341-0001_$F.csv\", header = FALSE, encoding = \"latin1\")"
   ]
  },
  {
   "cell_type": "markdown",
   "id": "16ff2ad8",
   "metadata": {
    "lines_to_next_cell": 0
   },
   "source": [
    "Wenn Sie schnell überprüfen möchten, ob die Umlaute nun korrekt angezeigt werden, können Sie den Befehl `head()` benutzen. Hierdurch werden nur die ersten Zeilen Ihrer Tabelle angezeigt."
   ]
  },
  {
   "cell_type": "code",
   "execution_count": null,
   "id": "93886896",
   "metadata": {
    "lines_to_next_cell": 0
   },
   "outputs": [],
   "source": [
    "head(data_csv_clean)"
   ]
  },
  {
   "cell_type": "markdown",
   "id": "6f98413c",
   "metadata": {
    "lines_to_next_cell": 0
   },
   "source": [
    "An dem Wort \"Beschäftigungsverältnis\" in Zeile 3 sehen Sie, dass die CSV-Datei nun korrekt gelesen wird. Wie bereits erwähnt sollte Sie auf Umlaute jedoch in Gänze verzichten.\\\n",
    "\\"
   ]
  },
  {
   "cell_type": "code",
   "execution_count": null,
   "id": "14abfab5",
   "metadata": {
    "eval": false,
    "lines_to_next_cell": 2,
    "tags": [
     "remove_input"
    ]
   },
   "outputs": [],
   "source": [
    "#install.packages(\"pandoc\")"
   ]
  },
  {
   "cell_type": "code",
   "execution_count": 7,
   "id": "0fceacd6",
   "metadata": {
    "lines_to_next_cell": 0,
    "tags": [
     "remove_input"
    ]
   },
   "outputs": [
    {
     "ename": "ERROR",
     "evalue": "Error in library(pandoc): there is no package called 'pandoc'\n",
     "output_type": "error",
     "traceback": [
      "Error in library(pandoc): there is no package called 'pandoc'\nTraceback:\n",
      "1. library(pandoc)"
     ]
    }
   ],
   "source": [
    "library(pandoc)"
   ]
  },
  {
   "cell_type": "markdown",
   "id": "da4dddf1",
   "metadata": {},
   "source": [
    "*Alternative:*\\\n",
    "Um Probleme mit der Zeichenkodierung zu vermeiden, speichern Sie am besten schon im Vorhinein Ihre Datei mit UTF-8 Kodierung ab. Dies können Sie meist direkt unter den `Speichern unter...` Dateiformaten auswählen:\n",
    "\n",
    "![Abspeichern mit UTF-8 Kodierung](C:/Users/ant87282/Pictures/Camera Roll/Screenshot_abspeichern_UTF8_ 2024-04-15 172941.png){#id .class width=600 height=px}\\\n",
    "\\\n",
    "\n",
    "### Umlaute entfernen\\\n",
    "\n",
    "Mittels des Befehls `str_replace_all` können Sie einzelne Buchstaben in Ihrer Tabelle ersetzen. Dies ist jedoch nur separat für einzelne Spalten möglich.  "
   ]
  },
  {
   "cell_type": "code",
   "execution_count": null,
   "id": "e1c2c32f",
   "metadata": {
    "lines_to_next_cell": 0
   },
   "outputs": [],
   "source": [
    "data_csv_clean$V1 <- str_replace_all(data_csv_clean$V1, c(\"ä\" = \"ae\", \"ö\" = \"oe\", \"ü\" =\"ue\", \"ß\" =\"ss\"))\n",
    "data_csv_clean$V2 <- str_replace_all(data_csv_clean$V2, c(\"ä\" = \"ae\", \"ö\" = \"oe\", \"ü\" =\"ue\", \"ß\" =\"ss\"))"
   ]
  },
  {
   "cell_type": "markdown",
   "id": "6c6e2e28",
   "metadata": {},
   "source": [
    "**Erklärung des Codes:**\\\n",
    "\n",
    "- `data_csv_utf8$V1`:\\\n",
    "Durch das Anhängen eines `$`- Zeichens an den Namen der Tabelle signalisieren Sie **R**, dass Sie sich nur auf einen bestimmte Variable - hier die Spalte **V1** - beziehen möchten.\\\n",
    "\n",
    "- `str_replace_all`:\\\n",
    "Suchen und ersetzen von einzelnen Zeichen(-ketten) in ihrer Tabelle.\\\n",
    "\n",
    "- `c(\"ä\" = \"ae\", \"ö\" = \"oe\",...)`:\\\n",
    "Der Befehl `c` erstellt einen Vektor. Ein Vektor kombiniert von Ihnen festgelegte Zahlen- oder Zeichenketten (letzteres wird auch **\"String\"** genannt). Ein String ist z.B. c(\"Apfel\", \"Birne\", \"Kiwi\").\\\n",
    "Im hier verwendeten Zusammenhang mit `str_replace_all()` wird **R** befohlen, alle \"ä\" durch \"ae\" zu ersetzen und alle \"ö\" durch \"oe\" usw..\\\n",
    "\\\n",
    "\\\n",
    "\n",
    "**Ergebnis ansehen**:\\\n",
    "Über die `show()` -Funktion könnten Sie jetzt die Tabelle erneut sichten und überprüfen, ob die Zeichenumkodierung funktioniert hat.\n",
    "Wenn Ihre Tabelle jedoch sehr lang ist (so wie in diesem Fall) und Sie nur einen Teil Ihrer Tabelle betrachten möchten, können Sie sich auch nur bestimmte Bereiche anzeigen lassen. Hierfür setzen Sie hinter den Dateinamen eckige Klammern und bestimmen den Wertebereich:`[*Zeilenbereich*,*Spaltenbereich*]`.\\\n",
    "\n",
    "*Hinweis: Wenn Sie einen Wertebereich angeben wollen, platzieren Sie zwischen den ersten und letzten Wert einen Doppelpunkt`:` und * **R** *inkludiert alle dazwischenliegenden Werte (\"von... bis...\"). Ein Komma separiert Bereiche.*\\\n",
    "\\\n",
    "**Allgemeines Beispiel:** "
   ]
  },
  {
   "cell_type": "code",
   "execution_count": null,
   "id": "7296b2c6",
   "metadata": {
    "lines_to_next_cell": 0
   },
   "outputs": [],
   "source": [
    "1:5"
   ]
  },
  {
   "cell_type": "markdown",
   "id": "ca6c00cf",
   "metadata": {
    "lines_to_next_cell": 0
   },
   "source": [
    "Ein Vektor mit Wertebereichen:"
   ]
  },
  {
   "cell_type": "code",
   "execution_count": null,
   "id": "e09c10b8",
   "metadata": {
    "lines_to_next_cell": 0
   },
   "outputs": [],
   "source": [
    "c(1:5, 11:15)"
   ]
  },
  {
   "cell_type": "markdown",
   "id": "79c61054",
   "metadata": {},
   "source": [
    "\\\n",
    "\n",
    "**Angewendet auf die vorliegende CSV-Tabelle:**"
   ]
  },
  {
   "cell_type": "code",
   "execution_count": null,
   "id": "11c951a2",
   "metadata": {},
   "outputs": [],
   "source": [
    "show(data_csv_clean[8:20,1:3])"
   ]
  },
  {
   "cell_type": "markdown",
   "id": "0140d29d",
   "metadata": {},
   "source": [
    "Wie Sie erkennen können, wurden die Umlaute erfolgreich umgeschrieben."
   ]
  },
  {
   "cell_type": "markdown",
   "id": "3129404a",
   "metadata": {
    "lines_to_next_cell": 0
   },
   "source": [
    "### Tabelle unterteilen\\\n",
    "Damit die Tabelle eine bessere Struktur erlangt, empfiehlt sich eine Separierung in Metadaten und  Tabellendaten.\\"
   ]
  },
  {
   "cell_type": "code",
   "execution_count": null,
   "id": "3e0aaa4f",
   "metadata": {
    "lines_to_next_cell": 2
   },
   "outputs": [],
   "source": [
    "Metadaten <- data_csv_clean[c(1:6, 87:88), 1]\n",
    "Tabellendaten <- data_csv_clean[8:85, 1:3]"
   ]
  },
  {
   "cell_type": "markdown",
   "id": "d974afa6",
   "metadata": {
    "lines_to_next_cell": 0
   },
   "source": [
    "### Spaltenüberschriften setzen\n",
    "Der Befehl `colnames()`ermöglicht es Ihnen Spaltenüberschriften zu setzen.\\\n",
    "\n",
    "Sie können dies entweder für jede Spalte mit einem einzelnen Befehl durchführen:"
   ]
  },
  {
   "cell_type": "code",
   "execution_count": null,
   "id": "9200c630",
   "metadata": {
    "eval": false
   },
   "outputs": [],
   "source": [
    "colnames(Tabellendaten)[1] <- \"Angestelltenverhaeltnis\""
   ]
  },
  {
   "cell_type": "markdown",
   "id": "62c8c2a2",
   "metadata": {
    "lines_to_next_cell": 0
   },
   "source": [
    "Oder alle Spaltenüberschriften mittels eines Vektors gleichzeitig neu setzen:"
   ]
  },
  {
   "cell_type": "code",
   "execution_count": null,
   "id": "61dd0cf3",
   "metadata": {},
   "outputs": [],
   "source": [
    "colnames(Tabellendaten) <- c(\"Angestelltenverhaeltnis\", \"Geschlecht\", \"Angestelltenzahl_2020\")\n",
    "\n",
    "#Ergebnis ansehen\n",
    "head(Tabellendaten) "
   ]
  },
  {
   "cell_type": "markdown",
   "id": "304c4d37",
   "metadata": {
    "lines_to_next_cell": 0
   },
   "source": [
    "Damit die Nummerierung der Tabellenzeilen nicht bei der Zahl 8 startet, empfiehlt sich die Nummerierung der Zeilen neu zu setzen. Herzu kann der Befehl `row.names` eingesetzt werden:"
   ]
  },
  {
   "cell_type": "code",
   "execution_count": null,
   "id": "a0950a00",
   "metadata": {
    "lines_to_next_cell": 0
   },
   "outputs": [],
   "source": [
    "row.names(Tabellendaten) <- 1:78"
   ]
  },
  {
   "cell_type": "markdown",
   "id": "110d4be6",
   "metadata": {},
   "source": [
    "\\\n",
    "*Alternative:*\\\n",
    "Direkte manuelle Bearbeitung in der Tabelle:"
   ]
  },
  {
   "cell_type": "code",
   "execution_count": null,
   "id": "5fad6b27",
   "metadata": {
    "eval": false,
    "lines_to_next_cell": 0
   },
   "outputs": [],
   "source": [
    "#edit(Tabellendaten) # edit not implemented in Jupyter R Kernel"
   ]
  },
  {
   "cell_type": "markdown",
   "id": "2fff01b1",
   "metadata": {},
   "source": [
    "**Achtung:** Es empfiehlt sich auf Befehle wie diese zu verzichten, da die Änderungen nicht im **R Skript** oder der **Console** angezeigt und somit **nicht nachvollzogen** werden können! \n",
    "\\\n",
    "\\\n",
    "\n",
    "------------------------------------------------------------------------\n",
    "\n",
    "## 6 Auswertung\\\n",
    "\n",
    "Der folgende Abschnitt thematisiert Auswertungsmöglichkeiten mit Fokus auf Untergruppierungen und Filterfunktionen.\\\n",
    "\n",
    "## Variablenklassen bestimmen\\\n",
    "Damit Sie Ihre Daten adäquat auswerten können, müssen Sie sich über die Struktur und Klasse der Variablen bewusst sein.\\\n",
    "\n",
    "**Die wichtigsten Variablenklassen im Überblick:**\\\n",
    "\n",
    "- `integer`: Ganze Zahlen.\\\n",
    "  Beispiel: 1,2,5.\n",
    "\n",
    "- `numeric`: Zahl mit Kommastellen.\\\n",
    "  Beispiel: 1.99, 2.33, 5.00.\n",
    "\n",
    "- `character`: Zeichenketten bzw. Strings.\\\n",
    "  Beispiel: \"Hallo\", \"Apfel\", \"Hannah\". \n",
    "\n",
    "- `factor`: Kategoriale Variablen.\\\n",
    "  Beispiel: \"schlecht\", \"gut\", \"sehr gut\""
   ]
  },
  {
   "cell_type": "markdown",
   "id": "2bd3ea19",
   "metadata": {
    "lines_to_next_cell": 0
   },
   "source": [
    "Die Variablenklasse ist ausschlaggebend dafür, wie Sie die Variablendaten auswerten können. Beispielsweise können Sie mit einer `numeric` -Variable rechnen, mit einer `character` -Variable jedoch nicht. \n",
    "\\\n",
    "\\\n",
    "**Variablenklassen bestimmen im Code:**\\\n",
    "Der Befehl `class()`gibt uns die jeweilige Klasse des Objektes wieder:\\"
   ]
  },
  {
   "cell_type": "code",
   "execution_count": null,
   "id": "94dc503c",
   "metadata": {
    "lines_to_next_cell": 0
   },
   "outputs": [],
   "source": [
    "class(Tabellendaten$Angestelltenverhaeltnis) #sollte als character oder factor gelesen werden\n",
    "class(Tabellendaten$Geschlecht) #sollte als character oder factor gelesen werden\n",
    "class(Tabellendaten$Angestelltenzahl_2020) #sollte als numerisch oder integer gelesen werden"
   ]
  },
  {
   "cell_type": "markdown",
   "id": "271bfb3a",
   "metadata": {},
   "source": [
    "Die Variablenklassen für \"Angestelltenverhältnis\" und \"Geschlecht\" sind passend. Die Variable \"\"Angestelltenzahl_2020\" wird jedoch auch als `character` interpretiert. Dies muss manuell geändert werden, da sonst bestimmte Auswertungen nicht möglich sind und Fehler entstehen können.\\\n",
    "\n",
    "> **Tipp:**\\\n",
    "Im *Environment* Fenster können Sie die Variablenklasse ebenfalls schnell einsehen:\\\n",
    "\n",
    "![Variablenklassen im Environment-Fenster](C:\\Users\\ant87282\\Pictures\\Camera Roll\\Screenshot_R_Environment_Variablenklassen.png){#id .class width=600 height=px}\\\n",
    "\\\n",
    "\\\n",
    "\n",
    "**Fallbeispiel:**\n",
    "Betrachten Sie die Funktion `max()`, welche den Maximalwert in der jeweiligen Spalte zurückgeben soll. Hinweis: `na.rm = TRUE` muss hinzugefügt werden, damit die nicht vorhandenen Werte nicht berücksichtigt werden, ansonsten kommt es zu einem Error.\\"
   ]
  },
  {
   "cell_type": "code",
   "execution_count": null,
   "id": "1cada47b",
   "metadata": {},
   "outputs": [],
   "source": [
    "max(Tabellendaten$Angestelltenzahl_2020, na.rm = TRUE)"
   ]
  },
  {
   "cell_type": "markdown",
   "id": "9e9a57a4",
   "metadata": {
    "lines_to_next_cell": 0
   },
   "source": [
    "Wenn Sie jedoch einen Blick in die Tabelle werfen, sehen Sie schnell, dass es mehrere Angestelltenzahlen über 100.000 gibt. Die ausgegebene Zahl kann also nicht stimmen!\\\n",
    "\n",
    "**Wie kann es zu solch einem Fehler kommen?**\\\n",
    "Da die Variable \"Angestelltenzahl_2020\" als `character` interpretiert wird, ändert sich auch die Bedeutung der Funktion `max()`. Die Funkion `max()` gibt nun nicht mehr den Maximalwert zurück, sondern den niedrigsten Platz in alphabetischer Sortierung.\\ \n",
    "Nur wenn wenn die Werte in der Tabelle auch als Zahlen (also numerisch/integer) von **R** gelesen werden, gibt die Funktion `max()` den Maximalwert der Spalte zurück.\\\n",
    "\\\n",
    "\\\n",
    "\n",
    "### Variablenklasse ändern\\\n",
    "\n",
    "Hierfür überspeichern Sie die Daten der jeweiligen Spalte mit den exakt selben Daten, nur das Sie durch den Befehl `as.integer` die Klasse der Variable ändern. Wenn Sie die Klasse in numerisch ändern wollen würden Sie `as.numeric` usw. verwenden.\\"
   ]
  },
  {
   "cell_type": "code",
   "execution_count": null,
   "id": "b78ff9cb",
   "metadata": {
    "warning": false
   },
   "outputs": [],
   "source": [
    "Tabellendaten$Angestelltenzahl_2020 <- as.integer(Tabellendaten$Angestelltenzahl_2020)"
   ]
  },
  {
   "cell_type": "markdown",
   "id": "1c47e0cd",
   "metadata": {
    "lines_to_next_cell": 0
   },
   "source": [
    "Überprüfen Sie gegebenenfalls erneut die Klasse:"
   ]
  },
  {
   "cell_type": "code",
   "execution_count": null,
   "id": "699c3998",
   "metadata": {},
   "outputs": [],
   "source": [
    "class(Tabellendaten$Angestelltenzahl_2020)"
   ]
  },
  {
   "cell_type": "markdown",
   "id": "40d9a35f",
   "metadata": {
    "lines_to_next_cell": 0
   },
   "source": [
    "Wenn Sie nun noch einmal die Beispielfunktion `max()` heranziehen, dann bekommen Sie jetzt durch neuer Klassenzugehörigkeit der Variable den Maximalwert angezeigt:"
   ]
  },
  {
   "cell_type": "code",
   "execution_count": null,
   "id": "46f9268e",
   "metadata": {
    "lines_to_next_cell": 0
   },
   "outputs": [],
   "source": [
    "max(Tabellendaten$Angestelltenzahl_2020, na.rm = TRUE)"
   ]
  },
  {
   "cell_type": "markdown",
   "id": "1e9227b8",
   "metadata": {},
   "source": [
    "> **Merken:** Überprüfen Sie immer die Art der Variablenklasse, welche **R** Ihren Daten zuweist und ändern Sie dies gegebenenfalls, um Fehler zu vermeiden.\n",
    "\n",
    "\\\n",
    "\n",
    "### Variablen hinzufügen\\\n",
    "\n",
    "Eine gute **Kategorisierung** Ihrer Daten ist notwendig, um effizient zu filtern. Hierzu müssen Sie die Struktur der Daten nachvollziehen können.\\\n",
    "Um die einzelnen Ausprägung der Variable \"Angestelltenverhaeltnis\" zu sichten, bietet Ihnen **R** den Befehl `unique()`:"
   ]
  },
  {
   "cell_type": "code",
   "execution_count": null,
   "id": "b38ba5dc",
   "metadata": {
    "lines_to_next_cell": 0
   },
   "outputs": [],
   "source": [
    "unique(Tabellendaten$Angestelltenverhaeltnis)"
   ]
  },
  {
   "cell_type": "markdown",
   "id": "cb518432",
   "metadata": {
    "lines_to_next_cell": 0
   },
   "source": [
    "Wie Sie erkennen können, ist die Variable \"Angestelltenverhaeltnis\" recht unübersichtlich, da sie verschiedene Unterkategorien enthält. Bei Betrachtung der einzelnen Positionen ist jedoch nicht erkennbar, zu welcher Überkategorie die Position gehört.\\\n",
    "\n",
    "**Bei genauerer Betrachtung der Tabelle fällt auf, dass es drei Ebenen gibt:**\n",
    "\n",
    "1. Ebene: \"Wissenschaftliches und künstlerisches Personal\" und \"Verwaltungs-, technisches und sonstiges Personal\"\\\n",
    "\n",
    "2. Ebene: \"Hauptberuflich\" und \"Nebenberuflich\"\n",
    "\n",
    "3. Ebene: Die einzelnen Positionen der Berufsbezeichnungen z.B. \"Professoren\", \"Dozenten und Assistenten\", etc.\n",
    "\n",
    "Für eine übersichtlichere Struktur in der Tabelle, kann für die ersten zwei Ebenen jeweils eine neue Variable erstellt werden. Hierdurch werden zwei neue Spalten zur Tabelle hinzugefügt und Sie können dann bei Betrachtung einer einzelnen Zeile alle wichtigen Informationen herauslesen, was derzeit nicht möglich ist.\n",
    "\\\n",
    "\\\n",
    "**Neue Variablen erstellen**:\\\n",
    "Da die Struktur es nicht erlaubt, die neuen Variablen durch Referenz auf die bereits vorhandenen Variablen zu erzeugen, müssen die neuen Variablen manuell strukturiert werden.\\\n",
    "\n",
    "Erzeugen Sie hierfür zunächst neue Variablen und setzen Sie den Inhalt erst mal auf unbekannt (NA)."
   ]
  },
  {
   "cell_type": "code",
   "execution_count": null,
   "id": "67b82723",
   "metadata": {},
   "outputs": [],
   "source": [
    "#1.Ebene: Neue Variable \"Personalkategorie\"\n",
    "Tabellendaten$Personalkategorie <- c(NA)\n",
    "\n",
    "#2.Ebene: Neue Variable \"Art der Anstellung\"\n",
    "Tabellendaten$Art_der_Anstellung <- c(NA)"
   ]
  },
  {
   "cell_type": "markdown",
   "id": "30180823",
   "metadata": {
    "lines_to_next_cell": 0
   },
   "source": [
    "Der Spalteninhalt muss nun manuell eingetragen werden.\\\n",
    "Achtung: Diese Weise ist leider recht fehleranfällig, ist jedoch durch den Aufbau der Datei, ohne komplexere Funktionen zu benutzen, nicht anders möglich.\\\n",
    "\n",
    "> **Merken!:** Wenn Sie Daten generieren, strukturieren Sie diese immer gut. Dies erleichtert Ihnen selbst, aber auch allen anderen, die Ihre Daten verwenden, dass Arbeiten!\\\n",
    "\n",
    "\\\n",
    "**Einpflegen des Variableninhalts**"
   ]
  },
  {
   "cell_type": "code",
   "execution_count": null,
   "id": "694bae13",
   "metadata": {},
   "outputs": [],
   "source": [
    "#1.Ebene\n",
    "Tabellendaten$Personalkategorie[76:78] <- \"Insgesamt\"\n",
    "Tabellendaten$Personalkategorie[1:30] <- \"Wissenschaftliches und künstlerisches Personal\"\n",
    "Tabellendaten$Personalkategorie[31:75] <- \"Verwaltungs-, technisches und sonstiges Personal\""
   ]
  },
  {
   "cell_type": "code",
   "execution_count": null,
   "id": "5586f53b",
   "metadata": {
    "lines_to_next_cell": 2
   },
   "outputs": [],
   "source": [
    "#2.Ebene\n",
    "Tabellendaten$Art_der_Anstellung[c(1:3, 31:33, 76:78)] <- \"Insgesamt\"\n",
    "Tabellendaten$Art_der_Anstellung[c(4:18,34:66)] <- \"Hauptberuflich\"\n",
    "Tabellendaten$Art_der_Anstellung[c(19:30,67:75)] <- \"Nebenberuflich\""
   ]
  },
  {
   "cell_type": "markdown",
   "id": "aa9eb968",
   "metadata": {
    "lines_to_next_cell": 0
   },
   "source": [
    "Ergebnis ansehen:"
   ]
  },
  {
   "cell_type": "code",
   "execution_count": null,
   "id": "c9b26b79",
   "metadata": {
    "class.output": "scroll_limit",
    "lines_to_next_cell": 0
   },
   "outputs": [],
   "source": [
    "show(Tabellendaten)"
   ]
  },
  {
   "cell_type": "markdown",
   "id": "fa8c540e",
   "metadata": {
    "lines_to_next_cell": 0
   },
   "source": [
    "\\\n",
    "\n",
    "### Unterkategorisieren\\\n",
    "\n",
    "Eine Unterkategorisierung (auch Sub-Sampling gennant) bietet sich auch insbesondere für die Variable \"Geschlecht\" an."
   ]
  },
  {
   "cell_type": "code",
   "execution_count": null,
   "id": "da343a7e",
   "metadata": {
    "lines_to_next_cell": 0
   },
   "outputs": [],
   "source": [
    "unique(Tabellendaten$Geschlecht)"
   ]
  },
  {
   "cell_type": "markdown",
   "id": "f6d7128d",
   "metadata": {
    "lines_to_next_cell": 0
   },
   "source": [
    "Durch das Aufführen der Variablenausprägung `\"Insgesamt\"` wird die Tabelle recht unübersichtlich. Es empfiehlt sich das sub-samplen der Tabelle nach den verschiedenen Geschlechtsausprägungen:"
   ]
  },
  {
   "cell_type": "code",
   "execution_count": null,
   "id": "ddfbca64",
   "metadata": {
    "lines_to_next_cell": 0
   },
   "outputs": [],
   "source": [
    "#Geschlecht\n",
    "Tabelle_maennlich <- subset(Tabellendaten, Geschlecht == \"maennlich\")\n",
    "Tabelle_weiblich <- subset(Tabellendaten, Geschlecht == \"weiblich\")\n",
    "Tabelle_Insgesamt <- subset(Tabellendaten, Geschlecht == \"Insgesamt\")\n",
    "\n",
    "#Ergbnis ansehen \n",
    "head(Tabelle_Insgesamt)"
   ]
  },
  {
   "cell_type": "markdown",
   "id": "c74d2522",
   "metadata": {},
   "source": [
    "\\\n",
    "Wenn Sie nun z.B. aus der Tabelle_Insgesamt die zweite Spalte entfernen möchten, da diese redundant ist, können Sie die Spalte aus dem Subsample entfernen:"
   ]
  },
  {
   "cell_type": "code",
   "execution_count": null,
   "id": "c9718e39",
   "metadata": {
    "lines_to_next_cell": 0
   },
   "outputs": [],
   "source": [
    "Tabelle_Insgesamt <- subset(Tabelle_Insgesamt, select= c(-Geschlecht))\n",
    "\n",
    "#Ergebnis ansehen\n",
    "head(Tabelle_Insgesamt)"
   ]
  },
  {
   "cell_type": "markdown",
   "id": "e3c30f62",
   "metadata": {
    "lines_to_next_cell": 0
   },
   "source": [
    "\\\n",
    "\n",
    "### Tabellendaten filtern\\\n",
    "\n",
    "Alternativ zum `subset`-Befehl kann mit dem Befehl `filter` gearbeitet werden.\\\n",
    "Sie können Ihre Tabelle mittels der `filter`-Funktion filtern und so nach belieben die Tabelle nur gezielte Inhalte anzeigen lassen.\\\n",
    "\\\n",
    "Hierzu können Sie verschiedene Operatoren und Funktionen nutzen:\\\n",
    "\\\n",
    "**Mathematische Operatoren:**\n",
    "\n",
    "- `==` (Ist gleich) \n",
    "- `!=` (Ist nicht gleich)\n",
    "- `<` (Kleiner als)\n",
    "- `<=` (Kleiner-Gleich)\n",
    "- `>` (Größer als)\n",
    "- `>=` (größer-Gleich)\n",
    "\n",
    "Beispiel:"
   ]
  },
  {
   "cell_type": "code",
   "execution_count": null,
   "id": "229707fc",
   "metadata": {
    "lines_to_next_cell": 0
   },
   "outputs": [],
   "source": [
    "filter(Tabelle_Insgesamt, Tabelle_Insgesamt$Angestelltenzahl_2020 <= 5000)"
   ]
  },
  {
   "cell_type": "markdown",
   "id": "47db39b2",
   "metadata": {
    "lines_to_next_cell": 0
   },
   "source": [
    "\\\n",
    "**Logische Operatoren:**\n",
    "\n",
    "- `!` (logisches NICHT)\n",
    "- `&` (logisches UND)\n",
    "- `|` (logisches ODER)\n",
    "\n",
    "Beispiel:"
   ]
  },
  {
   "cell_type": "code",
   "execution_count": null,
   "id": "05aad529",
   "metadata": {
    "lines_to_next_cell": 0
   },
   "outputs": [],
   "source": [
    "filter(Tabellendaten, Tabellendaten$Personalkategorie == \"Wissenschaftliches und künstlerisches Personal\" & Tabellendaten$Geschlecht == \"weiblich\" )"
   ]
  },
  {
   "cell_type": "markdown",
   "id": "b3806a48",
   "metadata": {
    "lines_to_next_cell": 0
   },
   "source": [
    "\\\n",
    "**Verwenden von Funktionen:**\n",
    "\n",
    "Beispiel:\n",
    "Ausgabe des kleinsten Wertes mittels er `min()` -Funktion"
   ]
  },
  {
   "cell_type": "code",
   "execution_count": null,
   "id": "1f8e3d9e",
   "metadata": {
    "lines_to_next_cell": 0
   },
   "outputs": [],
   "source": [
    "filter(Tabellendaten, Tabellendaten$Angestelltenzahl_2020 == min(Tabellendaten$Angestelltenzahl_2020, na.rm = TRUE))"
   ]
  },
  {
   "cell_type": "markdown",
   "id": "13d87ef2",
   "metadata": {
    "lines_to_next_cell": 0
   },
   "source": [
    "\\\n",
    "\n",
    "### Sortieren von Tabellendaten\\\n",
    "\n",
    "Sie können Tabellen mittels des `order()`-Befehls nach belieben sortieren.\\\n",
    "\n",
    "Beispiel:"
   ]
  },
  {
   "cell_type": "code",
   "execution_count": null,
   "id": "c271d00f",
   "metadata": {
    "lines_to_next_cell": 0
   },
   "outputs": [],
   "source": [
    "Tabelle_Insgesamt_Sortiert <- Tabelle_Insgesamt[order(Tabelle_Insgesamt$Angestelltenzahl_2020, decreasing = TRUE),]\n",
    "\n",
    "#Ergebnis ansehen\n",
    "head(Tabelle_Insgesamt_Sortiert)"
   ]
  },
  {
   "cell_type": "markdown",
   "id": "c846023d",
   "metadata": {},
   "source": [
    "\n"
   ]
  }
 ],
 "metadata": {
  "jupytext": {
   "cell_metadata_filter": "message,class.output,warning,language,tags,eval,-all",
   "main_language": "R",
   "notebook_metadata_filter": "-all"
  },
  "kernelspec": {
   "display_name": "R",
   "language": "R",
   "name": "ir"
  },
  "language_info": {
   "codemirror_mode": "r",
   "file_extension": ".r",
   "mimetype": "text/x-r-source",
   "name": "R",
   "pygments_lexer": "r",
   "version": "3.6.1"
  }
 },
 "nbformat": 4,
 "nbformat_minor": 5
}
